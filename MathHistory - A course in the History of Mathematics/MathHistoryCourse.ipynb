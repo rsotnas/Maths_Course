{
 "cells": [
  {
   "cell_type": "markdown",
   "metadata": {},
   "source": [
    "# Mathematics History Course\n",
    "\n",
    "Based on Mathematics and its History (Springer, 3rd ed)\n",
    "\n",
    "#### Course Playlist:\n",
    "https://www.youtube.com/watch?v=dW8Cy6WrO94&list=PL55C7C83781CF4316&index=2&t=0s"
   ]
  },
  {
   "cell_type": "code",
   "execution_count": 1,
   "metadata": {},
   "outputs": [],
   "source": [
    "# Basic libraries for the notebook work\n",
    "import numpy as np\n",
    "import matplotlib.pyplot as plt"
   ]
  },
  {
   "cell_type": "markdown",
   "metadata": {},
   "source": [
    "### Chapter 1 - Pythagoras' Theorem"
   ]
  },
  {
   "cell_type": "markdown",
   "metadata": {},
   "source": [
    "#### Babylonians and Greeks\n",
    "\n",
    "The babylonians already knew about triangles. They knew if you had a rope with four strings and one with three strings, the next one would be a five stringed-rope and would create a square-triangle. The sum of the smaller areas would be the same as the greater areas.\n",
    "\n",
    "The greeks thought in areas and not in lengths, therefore the way of thinking was simpler, since one doesn't have squares to think about it.The greeks didn't like irrational numbers, even though, not sure if they called them irrational number."
   ]
  },
  {
   "cell_type": "markdown",
   "metadata": {},
   "source": [
    "#### Definition of a right angled triangle\n",
    "A triangle is right angled  when the sum of areas of the squares on shorter areas of the squares on shorter sides equals the area of the square on the longer side (hypotenuse)\n",
    "\n",
    "\\begin{equation*}\n",
    "Q_1 + Q_2 = Q_3\n",
    "\\end{equation*}\n"
   ]
  },
  {
   "cell_type": "markdown",
   "metadata": {},
   "source": [
    "#### It's not necessary to the formula. By merely drawing a square around the triangle it is possible to count and then see distance between the points:\n",
    "\n",
    "![image1.PNG](images\\image1.PNG)"
   ]
  },
  {
   "cell_type": "markdown",
   "metadata": {},
   "source": [
    "#### Proof of that the sum of the squares in the smaller sides is the the square in the greater side:\n",
    "![image2.PNG](images\\image2.PNG)\n",
    "\n",
    "\n",
    "#### Formula of distance between two points:\n",
    "\\begin{equation*}\n",
    "d = \\sqrt{(x_1-x_2)^2+(y_1-y_2)^2}\n",
    "\\end{equation*}\n"
   ]
  },
  {
   "cell_type": "code",
   "execution_count": 25,
   "metadata": {},
   "outputs": [
    {
     "data": {
      "image/png": "[encoded data removed]",
      "text/plain": [
       "<Figure size 432x288 with 1 Axes>"
      ]
     },
     "metadata": {
      "needs_background": "light"
     },
     "output_type": "display_data"
    }
   ],
   "source": [
    "X = np.array([[0, 0], [1, 0], [2, 0], [3, 0], [4, 0], [4, 1], [4, 2], [4, 3]])\n",
    "Y = ['purple', 'purple', 'purple', 'purple', 'purple', 'purple',  'purple',  'purple']\n",
    "triangle_color = 'orange'\n",
    "\n",
    "plt.figure()\n",
    "plt.scatter(X[:, 0], X[:, 1], s = 170, color = Y[:])\n",
    "\n",
    "t2 = plt.Polygon(X[0:], color=triangle_color)\n",
    "plt.gca().add_patch(t2)\n",
    "\n",
    "plt.show()"
   ]
  },
  {
   "cell_type": "markdown",
   "metadata": {},
   "source": [
    "#### Proof of that square root of 2 is not a rational number\n",
    "\n",
    "* a, b are natural numbers with no common factor\n",
    "\n",
    "* Suppose:\n",
    "\n",
    "\\begin{itemize}\n",
    "\\item \\begin{equation*}\n",
    "    \\sqrt{2} = \\frac{a}{b}\n",
    "\\end{equation*}\n",
    "\\end{itemize}\n",
    "\n",
    "\\begin{itemize}\n",
    "\\item \n",
    "\\begin{equation*}\n",
    "    (\\frac{a}{b})^2 = 2\n",
    "\\end{equation*}\n",
    "\\end{itemize}\n",
    "\n",
    "\\begin{itemize}\n",
    "\\item \n",
    "\\begin{equation*}\n",
    "    (a)^2 = 2b^2\n",
    "\\end{equation*}\n",
    "\\end{itemize}\n",
    "\n",
    "\\begin{itemize}\n",
    "\\item \n",
    "b is even\n",
    "\\end{itemize}\n",
    "\n",
    "\\begin{itemize}\n",
    "\\item therefore a is also even\n",
    "\\end{itemize}\n",
    "\n",
    "\\begin{itemize}\n",
    "\\item \n",
    "\\begin{equation*}\n",
    "    a = 2c\n",
    "\\end{equation*}\n",
    "\\end{itemize}\n",
    "\n",
    "\\begin{itemize}\n",
    "\\item \n",
    "\\begin{equation*}\n",
    "    (2c)^2 = 2b^2\n",
    "\\end{equation*}\n",
    "\\end{itemize}\n",
    "\n",
    "\\begin{itemize}\n",
    "\\item \n",
    "\\begin{equation*}\n",
    "    2c^2 = b^2\n",
    "\\end{equation*}\n",
    "\\end{itemize}\n",
    "\n",
    "\\begin{itemize}\n",
    "\\item therefore b must be even too\n",
    "\\end{itemize}\n",
    "\n",
    "\\begin{itemize}\n",
    "\\item that contradicts the assumption\n",
    "\\end{itemize}\n",
    "\n",
    "\\begin{itemize}\n",
    "\\item\n",
    "\\begin{equation*}\n",
    "    \\sqrt{2} = \\frac{a}{b}\n",
    "\\end{equation*}\n",
    "is impossible\n",
    "\\end{itemize}\n"
   ]
  },
  {
   "cell_type": "markdown",
   "metadata": {},
   "source": [
    "### Chapter 2 - Greek Geometry"
   ]
  },
  {
   "cell_type": "markdown",
   "metadata": {},
   "source": [
    "### Chapter 3 - Greek Number Theory"
   ]
  },
  {
   "cell_type": "markdown",
   "metadata": {},
   "source": [
    "### Chapter 4 - Infinity in Greek Math"
   ]
  },
  {
   "cell_type": "markdown",
   "metadata": {},
   "source": [
    "### Chapter 5 - Number Theory in Asia"
   ]
  },
  {
   "cell_type": "markdown",
   "metadata": {},
   "source": [
    "### Chapter 6 - Polynomial Equations"
   ]
  },
  {
   "cell_type": "markdown",
   "metadata": {},
   "source": [
    "### Chapter 7 - Analytic Geometry"
   ]
  },
  {
   "cell_type": "markdown",
   "metadata": {},
   "source": [
    "### Chapter 8 - Projective Geometry"
   ]
  },
  {
   "cell_type": "markdown",
   "metadata": {},
   "source": [
    "### Chapter 9 - Calculus"
   ]
  },
  {
   "cell_type": "markdown",
   "metadata": {},
   "source": [
    "### Chapter 10 - Infinite Series"
   ]
  },
  {
   "cell_type": "markdown",
   "metadata": {},
   "source": [
    "### Chapter 13 - Mechanics"
   ]
  },
  {
   "cell_type": "markdown",
   "metadata": {},
   "source": [
    "### Chapter 18 - Non-Euclidian Geometry"
   ]
  }
 ],
 "metadata": {
  "kernelspec": {
   "display_name": "Python 3",
   "language": "python",
   "name": "python3"
  },
  "language_info": {
   "codemirror_mode": {
    "name": "ipython",
    "version": 3
   },
   "file_extension": ".py",
   "mimetype": "text/x-python",
   "name": "python",
   "nbconvert_exporter": "python",
   "pygments_lexer": "ipython3",
   "version": "3.7.6"
  },
  "latex_envs": {
   "LaTeX_envs_menu_present": true,
   "autoclose": false,
   "autocomplete": true,
   "bibliofile": "biblio.bib",
   "cite_by": "apalike",
   "current_citInitial": 1,
   "eqLabelWithNumbers": true,
   "eqNumInitial": 1,
   "hotkeys": {
    "equation": "Ctrl-E",
    "itemize": "Ctrl-I"
   },
   "labels_anchors": false,
   "latex_user_defs": false,
   "report_style_numbering": false,
   "user_envs_cfg": false
  }
 },
 "nbformat": 4,
 "nbformat_minor": 4
}
